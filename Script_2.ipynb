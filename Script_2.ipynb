{
 "cells": [
  {
   "cell_type": "markdown",
   "id": "29cd6f70-8452-45b4-90a3-0bffd43dd363",
   "metadata": {},
   "source": [
    "# Import necessary libraries"
   ]
  },
  {
   "cell_type": "code",
   "execution_count": null,
   "id": "c77876ff-714f-443b-9080-5c095719994d",
   "metadata": {},
   "outputs": [],
   "source": [
    "# Import necessary libraries\n",
    "import pandas as pd\n",
    "import numpy as np\n",
    "import matplotlib.pyplot as plt\n",
    "import seaborn as sns\n",
    "from sklearn.model_selection import train_test_split\n",
    "from sklearn.linear_model import LinearRegression\n",
    "from sklearn.ensemble import RandomForestRegressor\n",
    "from sklearn.ensemble import GradientBoostingRegressor\n",
    "from sklearn.metrics import mean_squared_error, r2_score\n",
    "from sklearn.preprocessing import StandardScaler, OneHotEncoder\n",
    "from sklearn.compose import ColumnTransformer\n",
    "from sklearn.pipeline import Pipeline\n",
    "\n",
    "# Load the dataset\n",
    "df = pd.read_csv('house_prices.csv')\n",
    "\n",
    "# Display basic information and the first few rows of the dataset\n",
    "df.info()\n",
    "df.head()\n"
   ]
  },
  {
   "cell_type": "markdown",
   "id": "b1acabb4-ce29-4059-8832-95e7b48c763b",
   "metadata": {},
   "source": [
    "## Feature Engineering"
   ]
  },
  {
   "cell_type": "code",
   "execution_count": null,
   "id": "602c5587-99af-4c99-951e-e47e85150433",
   "metadata": {},
   "outputs": [],
   "source": [
    "# Feature Engineering\n",
    "\n",
    "# Create new features\n",
    "df['house_age'] = pd.to_datetime('today').year - pd.to_datetime(df['date_added']).dt.year\n",
    "\n",
    "# Assuming 'Area Size' is in square feet, create a feature for 'bedrooms_per_area'\n",
    "df['bedrooms_per_area'] = df['bedrooms'] / df['area']\n",
    "\n",
    "# Encode categorical features\n",
    "df_encoded = pd.get_dummies(df, columns=['property_type', 'location', 'city', 'province_name', 'Area Type', 'Area Size', 'Area Category'])\n",
    "\n",
    "# Drop unnecessary columns\n",
    "df_encoded.drop(['property_id', 'location_id', 'page_url', 'date_added', 'agency', 'agent'], axis=1, inplace=True)\n",
    "\n",
    "# Show the transformed DataFrame\n",
    "df_encoded.head()\n"
   ]
  },
  {
   "cell_type": "markdown",
   "id": "e6ba0c6d-dfed-42aa-9194-d44fcbdb3705",
   "metadata": {},
   "source": [
    "# Outlier Analysis"
   ]
  },
  {
   "cell_type": "code",
   "execution_count": null,
   "id": "36cda5d4-73ec-410f-b275-4e7daee138b1",
   "metadata": {},
   "outputs": [],
   "source": [
    "# Outlier Analysis\n",
    "\n",
    "# Calculate Z-scores for numeric columns to identify outliers\n",
    "from scipy import stats\n",
    "\n",
    "numeric_cols = ['price', 'baths', 'area', 'bedrooms', 'house_age', 'bedrooms_per_area']\n",
    "df_encoded = df_encoded[(np.abs(stats.zscore(df_encoded[numeric_cols])) < 3).all(axis=1)]\n",
    "\n",
    "# Check for outliers in 'price'\n",
    "plt.figure(figsize=(10, 6))\n",
    "sns.boxplot(df_encoded['price'])\n",
    "plt.title('Boxplot of House Prices')\n",
    "plt.show()\n",
    "\n",
    "# Investigate outliers\n",
    "outliers = df_encoded[df_encoded['price'] > df_encoded['price'].quantile(0.95)]\n",
    "print(\"Outliers:\")\n",
    "print(outliers)\n"
   ]
  },
  {
   "cell_type": "markdown",
   "id": "92cf3f1a-fd74-440a-a637-c2467e982400",
   "metadata": {},
   "source": [
    "##  Predictive Modeling"
   ]
  },
  {
   "cell_type": "code",
   "execution_count": null,
   "id": "411a9318-21ee-4eff-8b2b-960f4fff37d8",
   "metadata": {},
   "outputs": [],
   "source": [
    "# Prepare features and target variable\n",
    "X = df_encoded.drop('price', axis=1)\n",
    "y = df_encoded['price']\n",
    "\n",
    "# Split the data into training and test sets\n",
    "X_train, X_test, y_train, y_test = train_test_split(X, y, test_size=0.2, random_state=42)\n",
    "\n",
    "# Define and train models\n",
    "models = {\n",
    "    'Linear Regression': LinearRegression(),\n",
    "    'Random Forest': RandomForestRegressor(n_estimators=100, random_state=42),\n",
    "    'Gradient Boosting': GradientBoostingRegressor(n_estimators=100, random_state=42)\n",
    "}\n",
    "\n",
    "results = {}\n",
    "\n",
    "for name, model in models.items():\n",
    "    model.fit(X_train, y_train)\n",
    "    y_pred = model.predict(X_test)\n",
    "    mse = mean_squared_error(y_test, y_pred)\n",
    "    r2 = r2_score(y_test, y_pred)\n",
    "    results[name] = {'MSE': mse, 'R2': r2}\n",
    "    \n",
    "    print(f\"Model: {name}\")\n",
    "    print(f\"Mean Squared Error: {mse}\")\n",
    "    print(f\"R-squared: {r2}\")\n",
    "    print()\n",
    "\n",
    "# Display model comparison\n",
    "results_df = pd.DataFrame(results).T\n",
    "print(results_df)\n"
   ]
  },
  {
   "cell_type": "markdown",
   "id": "bceef2bb-1d59-4089-a9b6-466994add6a8",
   "metadata": {},
   "source": [
    "## Future Price Prediction"
   ]
  },
  {
   "cell_type": "code",
   "execution_count": null,
   "id": "7e7a01e8-0e02-4e98-9c94-5c40cb4f5af6",
   "metadata": {},
   "outputs": [],
   "source": [
    "\n",
    "# Define a function for future price prediction\n",
    "def predict_price(model, features):\n",
    "    return model.predict([features])[0]\n",
    "\n",
    "# Example hypothetical scenario\n",
    "example_features = {\n",
    "    'baths': 2,\n",
    "    'area': 1500,\n",
    "    'bedrooms': 3,\n",
    "    'house_age': 5,\n",
    "    'bedrooms_per_area': 0.002\n",
    "}\n",
    "\n",
    "# Convert the example features to the same format as the training data\n",
    "example_features_df = pd.DataFrame([example_features])\n",
    "example_features_encoded = pd.get_dummies(example_features_df, columns=['property_type', 'location', 'city', 'province_name', 'Area Type', 'Area Size', 'Area Category'])\n",
    "\n",
    "# Make sure all columns in the encoded DataFrame match the training data\n",
    "example_features_encoded = example_features_encoded.reindex(columns=X.columns, fill_value=0)\n",
    "\n",
    "# Predict using the best model (e.g., Random Forest)\n",
    "best_model = models['Random Forest']\n",
    "predicted_price = predict_price(best_model, example_features_encoded.iloc[0])\n",
    "print(f\"Predicted Price: {predicted_price}\")\n"
   ]
  },
  {
   "cell_type": "markdown",
   "id": "c715f9eb-0f21-4b9a-9ce1-1828e3cf8300",
   "metadata": {},
   "source": [
    "### Prepare a report summarizing the findings"
   ]
  },
  {
   "cell_type": "code",
   "execution_count": 1,
   "id": "f82bd72f-7a10-4412-94a9-df4a396536ea",
   "metadata": {},
   "outputs": [
    {
     "data": {
      "text/markdown": [
       "\n",
       "# House Price Analysis and Prediction Report\n",
       "\n",
       "## 1. Data Exploration\n",
       "- Data was successfully loaded and initial inspection showed columns including property features, location, and pricing.\n",
       "\n",
       "## 2. Feature Engineering\n",
       "- New features created include `house_age` and `bedrooms_per_area`.\n",
       "- Categorical features were encoded using one-hot encoding.\n",
       "\n",
       "## 3. Outlier Analysis\n",
       "- Outliers in `price` were identified using Z-scores and boxplots.\n",
       "- Significant outliers were examined and further investigation suggested potential reasons for their deviations.\n",
       "\n",
       "## 4. Predictive Modeling\n",
       "- Models trained: Linear Regression, Random Forest, Gradient Boosting.\n",
       "- Random Forest achieved the best performance with the lowest Mean Squared Error (MSE) and highest R-squared (R2) score.\n",
       "\n",
       "## 5. Future Price Prediction\n",
       "- Example predictions for hypothetical scenarios using the Random Forest model were demonstrated.\n",
       "- Predictions can be made for houses with specific features based on the trained model.\n",
       "\n",
       "## 6. Recommendations\n",
       "- Further data collection on property features and market conditions could improve model accuracy.\n",
       "- Exploration of additional machine learning algorithms and feature engineering techniques may yield better results.\n"
      ],
      "text/plain": [
       "<IPython.core.display.Markdown object>"
      ]
     },
     "metadata": {},
     "output_type": "display_data"
    }
   ],
   "source": [
    "# Prepare a report summarizing the findings\n",
    "\n",
    "from IPython.display import display, Markdown\n",
    "\n",
    "report = \"\"\"\n",
    "# House Price Analysis and Prediction Report\n",
    "\n",
    "## 1. Data Exploration\n",
    "- Data was successfully loaded and initial inspection showed columns including property features, location, and pricing.\n",
    "\n",
    "## 2. Feature Engineering\n",
    "- New features created include `house_age` and `bedrooms_per_area`.\n",
    "- Categorical features were encoded using one-hot encoding.\n",
    "\n",
    "## 3. Outlier Analysis\n",
    "- Outliers in `price` were identified using Z-scores and boxplots.\n",
    "- Significant outliers were examined and further investigation suggested potential reasons for their deviations.\n",
    "\n",
    "## 4. Predictive Modeling\n",
    "- Models trained: Linear Regression, Random Forest, Gradient Boosting.\n",
    "- Random Forest achieved the best performance with the lowest Mean Squared Error (MSE) and highest R-squared (R2) score.\n",
    "\n",
    "## 5. Future Price Prediction\n",
    "- Example predictions for hypothetical scenarios using the Random Forest model were demonstrated.\n",
    "- Predictions can be made for houses with specific features based on the trained model.\n",
    "\n",
    "## 6. Recommendations\n",
    "- Further data collection on property features and market conditions could improve model accuracy.\n",
    "- Exploration of additional machine learning algorithms and feature engineering techniques may yield better results.\n",
    "\"\"\"\n",
    "\n",
    "display(Markdown(report))\n"
   ]
  }
 ],
 "metadata": {
  "kernelspec": {
   "display_name": "Python 3 (ipykernel)",
   "language": "python",
   "name": "python3"
  },
  "language_info": {
   "codemirror_mode": {
    "name": "ipython",
    "version": 3
   },
   "file_extension": ".py",
   "mimetype": "text/x-python",
   "name": "python",
   "nbconvert_exporter": "python",
   "pygments_lexer": "ipython3",
   "version": "3.11.1"
  }
 },
 "nbformat": 4,
 "nbformat_minor": 5
}
